{
 "cells": [
  {
   "cell_type": "code",
   "execution_count": null,
   "id": "b6478aa6",
   "metadata": {},
   "outputs": [
    {
     "name": "stderr",
     "output_type": "stream",
     "text": [
      "[#################################] 100% de421.bsp\n"
     ]
    }
   ],
   "source": [
    "import xarray as xr\n",
    "import sunscan as sc\n",
    "\n",
    "sky=sc.SkyObject(\n",
    "    lat=48.148,\n",
    "    lon=11.573,\n",
    "    elevation=538,\n",
    "    refraction_correction=True,\n",
    "    humidity=0.5\n",
    ")"
   ]
  },
  {
   "cell_type": "code",
   "execution_count": 2,
   "id": "26892faa",
   "metadata": {},
   "outputs": [
    {
     "ename": "SyntaxError",
     "evalue": "expression expected after dictionary key and ':' (3641518504.py, line 11)",
     "output_type": "error",
     "traceback": [
      "  \u001b[36mCell\u001b[39m\u001b[36m \u001b[39m\u001b[32mIn[2]\u001b[39m\u001b[32m, line 11\u001b[39m\n\u001b[31m    \u001b[39m\u001b[31m'dgamma':\u001b[39m\n            ^\n\u001b[31mSyntaxError\u001b[39m\u001b[31m:\u001b[39m expression expected after dictionary key and ':'\n"
     ]
    }
   ],
   "source": [
    "params_optimize=['dgamma', 'domega', 'fwhm_x', 'fwhm_y', 'dt', 'backlash']\n",
    "params_guess={\n",
    "    'dgamma': None,\n",
    "    'domega': None,\n",
    "    'fwhm_x': 0.6,\n",
    "    'fwhm_y': 0.6,\n",
    "    'dt': 0.0,\n",
    "    'backlash': 0.0\n",
    "}\n",
    "params_bounds={\n",
    "    'dgamma':\n",
    "}"
   ]
  },
  {
   "cell_type": "code",
   "execution_count": null,
   "id": "acea3691",
   "metadata": {},
   "outputs": [],
   "source": [
    "ds=xr.open_dataset('sunscan/data/sunscan_example.nc')\n",
    "simulator=sc.SunscanSimulator(sky=sky, params_optimize=params_optimize, params_guess=params_guess, params_bounds=params_bounds)\n",
    "parameters=simulator.fit(ds)"
   ]
  }
 ],
 "metadata": {
  "kernelspec": {
   "display_name": "Python 3",
   "language": "python",
   "name": "python3"
  },
  "language_info": {
   "codemirror_mode": {
    "name": "ipython",
    "version": 3
   },
   "file_extension": ".py",
   "mimetype": "text/x-python",
   "name": "python",
   "nbconvert_exporter": "python",
   "pygments_lexer": "ipython3",
   "version": "3.13.5"
  }
 },
 "nbformat": 4,
 "nbformat_minor": 5
}
